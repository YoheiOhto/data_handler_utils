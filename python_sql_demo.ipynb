{
 "cells": [
  {
   "cell_type": "markdown",
   "metadata": {},
   "source": [
    " * @ Author: Yohei Ohto\n",
    " * @ Create Time: 2024-11-25 22:24:43\n",
    " * @ Modified time: 2024-11-25 22:24:47\n",
    " * @ Description: sqlite3のコマンドの解説"
   ]
  },
  {
   "cell_type": "markdown",
   "metadata": {},
   "source": [
    "## レベルとしては基本情報技術者試験に少し追加事項があるくらい\n",
    "## このqiitaも参考になる https://qiita.com/meshi0323/items/ecbbd57e54fe83308ef9\n",
    "## https://qiita.com/studio_haneya/items/2626a11bb69155872090"
   ]
  },
  {
   "cell_type": "markdown",
   "metadata": {},
   "source": [
    "# install sqlite3"
   ]
  },
  {
   "cell_type": "code",
   "execution_count": 1,
   "metadata": {},
   "outputs": [
    {
     "name": "stdout",
     "output_type": "stream",
     "text": [
      "Collecting pysqlite3\n",
      "  Downloading pysqlite3-0.5.4.tar.gz (40 kB)\n",
      "\u001b[2K     \u001b[90m━━━━━━━━━━━━━━━━━━━━━━━━━━━━━━━━━━━━━━━━\u001b[0m \u001b[32m40.7/40.7 kB\u001b[0m \u001b[31m1.4 MB/s\u001b[0m eta \u001b[36m0:00:00\u001b[0m\n",
      "\u001b[?25h  Installing build dependencies ... \u001b[?25ldone\n",
      "\u001b[?25h  Getting requirements to build wheel ... \u001b[?25ldone\n",
      "\u001b[?25h  Preparing metadata (pyproject.toml) ... \u001b[?25ldone\n",
      "\u001b[?25hBuilding wheels for collected packages: pysqlite3\n",
      "  Building wheel for pysqlite3 (pyproject.toml) ... \u001b[?25ldone\n",
      "\u001b[?25h  Created wheel for pysqlite3: filename=pysqlite3-0.5.4-cp310-cp310-linux_x86_64.whl size=154390 sha256=ca968d134531ee943e37e0189c9080dcd6fcf174864645412bc713d6df85610c\n",
      "  Stored in directory: /root/.cache/pip/wheels/04/55/74/e3b53aeb9ff9e933626ee3938ccad69123828115ae34ce028e\n",
      "Successfully built pysqlite3\n",
      "Installing collected packages: pysqlite3\n",
      "Successfully installed pysqlite3-0.5.4\n",
      "\n",
      "\u001b[1m[\u001b[0m\u001b[34;49mnotice\u001b[0m\u001b[1;39;49m]\u001b[0m\u001b[39;49m A new release of pip is available: \u001b[0m\u001b[31;49m24.0\u001b[0m\u001b[39;49m -> \u001b[0m\u001b[32;49m24.3.1\u001b[0m\n",
      "\u001b[1m[\u001b[0m\u001b[34;49mnotice\u001b[0m\u001b[1;39;49m]\u001b[0m\u001b[39;49m To update, run: \u001b[0m\u001b[32;49mpip install --upgrade pip\u001b[0m\n"
     ]
    }
   ],
   "source": [
    "!pip install pysqlite3"
   ]
  },
  {
   "cell_type": "code",
   "execution_count": 3,
   "metadata": {},
   "outputs": [],
   "source": [
    "import sqlite3"
   ]
  },
  {
   "cell_type": "markdown",
   "metadata": {},
   "source": [
    "## VS CODEで使用する場合には SQLite Viewer を入れると、データベースの中身を確認できるためオススメ"
   ]
  },
  {
   "cell_type": "markdown",
   "metadata": {},
   "source": [
    "# databaseの作成 (connect)"
   ]
  },
  {
   "cell_type": "code",
   "execution_count": 4,
   "metadata": {},
   "outputs": [],
   "source": [
    "dbname = 'database/demo.db'\n",
    "conn = sqlite3.connect(dbname)"
   ]
  },
  {
   "cell_type": "markdown",
   "metadata": {},
   "source": [
    "# カーソルの作成\n",
    "データベースと対話、管理するためのインターフェイス  \n",
    "SQLクエリを実行したり、その結果を操作したりするために使用"
   ]
  },
  {
   "cell_type": "code",
   "execution_count": null,
   "metadata": {},
   "outputs": [],
   "source": [
    "cursor = conn.cursor()\n",
    "# cur = conn.cursor() という宣言文も多い"
   ]
  },
  {
   "cell_type": "markdown",
   "metadata": {},
   "source": [
    "# TABLEの作成\n",
    "tableを作成する  \n",
    "イメージとしてはエクセルのページ1枚を作成する感じ  \n",
    "ただし、カラム名を設定する必要があり、そこに制約をかけることができる。"
   ]
  },
  {
   "cell_type": "code",
   "execution_count": 27,
   "metadata": {},
   "outputs": [
    {
     "data": {
      "text/plain": [
       "<sqlite3.Cursor at 0x7e9e981010c0>"
      ]
     },
     "execution_count": 27,
     "metadata": {},
     "output_type": "execute_result"
    }
   ],
   "source": [
    "# 簡単にはこれでOK\n",
    "cursor.execute(\"\"\"\n",
    "CREATE TABLE orders (\n",
    "    order_id,\n",
    "    user_id,\n",
    "    order_date,\n",
    "    total_amount,\n",
    "    status\n",
    ")\n",
    "\"\"\")"
   ]
  },
  {
   "cell_type": "code",
   "execution_count": 21,
   "metadata": {},
   "outputs": [
    {
     "data": {
      "text/plain": [
       "<sqlite3.Cursor at 0x7e9e981010c0>"
      ]
     },
     "execution_count": 21,
     "metadata": {},
     "output_type": "execute_result"
    }
   ],
   "source": [
    "# 制限を盛りに盛るとこんな感じ\n",
    "cursor.execute(\"\"\"\n",
    "CREATE TABLE IF NOT EXISTS orders (\n",
    "    order_id INTEGER PRIMARY KEY AUTOINCREMENT,\n",
    "    user_id INTEGER NOT NULL,\n",
    "    order_date TIMESTAMP DEFAULT CURRENT_TIMESTAMP,\n",
    "    total_amount REAL NOT NULL CHECK(total_amount > 0),\n",
    "    status TEXT NOT NULL DEFAULT 'pending',\n",
    "    FOREIGN KEY (user_id) REFERENCES users(id),\n",
    "    UNIQUE (order_id, user_id)\n",
    ")\n",
    "\"\"\")"
   ]
  },
  {
   "cell_type": "markdown",
   "metadata": {},
   "source": [
    "IF NOT EXISTS __ __というテーブルが存在していれば\n",
    "  \n",
    "INTEGER 整数値 int  \n",
    "REAL 浮動小数点 float  \n",
    "TEXT テキスト型\tstr  \n",
    "BLOB バイナリ型\tbytes  \n",
    "NUMERIC\t数値型\tint/float  \n",
    "  \n",
    "PRIMARY KEY 主キー (重複が許されない、かつ欠損値が許されない → これを使えば検索が一意にできる)  \n",
    "AUTOINCREMENT 前の値+1の値が自動で追加される  \n",
    "NOT NULL 欠損値が許されない  \n",
    "UNIQUE 重複は許されない  \n",
    "DEFAULT デフォルト値を設定する  \n",
    "CHECK ()内の条件を満たすようにする  \n",
    "FOREIGN KEY 他のテーブルのキーを参照する (ここでは、usersというテーブルのidを参照する)  "
   ]
  },
  {
   "cell_type": "markdown",
   "metadata": {},
   "source": [
    "# TABLEの削除"
   ]
  },
  {
   "cell_type": "code",
   "execution_count": 12,
   "metadata": {},
   "outputs": [
    {
     "data": {
      "text/plain": [
       "<sqlite3.Cursor at 0x7e9e981010c0>"
      ]
     },
     "execution_count": 12,
     "metadata": {},
     "output_type": "execute_result"
    }
   ],
   "source": [
    "cursor.execute(\"\"\"\n",
    "DROP TABLE IF EXISTS orders \n",
    "\"\"\")"
   ]
  },
  {
   "cell_type": "markdown",
   "metadata": {},
   "source": [
    "テーブルを削除すると外部キーの参照を外す必要がある"
   ]
  },
  {
   "cell_type": "code",
   "execution_count": null,
   "metadata": {},
   "outputs": [
    {
     "data": {
      "text/plain": [
       "<sqlite3.Cursor at 0x7e9e981010c0>"
      ]
     },
     "execution_count": 25,
     "metadata": {},
     "output_type": "execute_result"
    }
   ],
   "source": [
    "cursor.execute(\"\"\"\n",
    "PRAGMA foreign_keys = OFF;\n",
    "\"\"\")\n",
    "\n",
    "cursor.execute(\"\"\"\n",
    "DROP TABLE orders;\n",
    "\"\"\")\n",
    "\n",
    "cursor.execute(\"\"\"\n",
    "PRAGMA foreign_keys = ON\n",
    "\"\"\")"
   ]
  },
  {
   "cell_type": "markdown",
   "metadata": {},
   "source": [
    "# TABLEの操作"
   ]
  },
  {
   "cell_type": "code",
   "execution_count": null,
   "metadata": {},
   "outputs": [],
   "source": [
    "# テーブル名を変更する\n",
    "cursor.execute(\"\"\"\n",
    "ALTER TABLE orders RENAME TO new_orders\n",
    "\"\"\")"
   ]
  },
  {
   "cell_type": "code",
   "execution_count": null,
   "metadata": {},
   "outputs": [],
   "source": [
    "# テーブルに新しい列を追加 descriptionというstr型のデータを格納する列が追加されている\n",
    "cursor.execute(\"\"\"\n",
    "ALTER TABLE orders ADD COLUMN description TEXT\n",
    "\"\"\")"
   ]
  },
  {
   "cell_type": "code",
   "execution_count": null,
   "metadata": {},
   "outputs": [],
   "source": [
    "# sqliteでは列の削除をDROPでできない\n",
    "# そのため、以下のように必要なデータのみ持つコピーの作成をしてから削除する\n",
    "\n",
    "# 1. 必要な列だけを持つ新しいテーブルを作成\n",
    "cursor.execute(\"\"\"\n",
    "CREATE TABLE orders_new (\n",
    "    order_id INTEGER PRIMARY KEY,\n",
    "    user_id INTEGER NOT NULL,\n",
    "    order_date TEXT NOT NULL,\n",
    "    total_amount REAL NOT NULL\n",
    ")\n",
    "\"\"\")\n",
    "\n",
    "# 2. データをコピー\n",
    "cursor.execute(\"\"\"\n",
    "INSERT INTO orders_new (order_id, user_id, order_date, total_amount)\n",
    "SELECT order_id, user_id, order_date, total_amount\n",
    "FROM orders\n",
    "\"\"\")\n",
    "\n",
    "# 3. 元のテーブルを削除\n",
    "cursor.execute(\"\"\"\n",
    "DROP TABLE orders\n",
    "\"\"\")\n",
    "\n",
    "# 4. 新しいテーブルを元の名前にリネーム\n",
    "cursor.execute(\"\"\"\n",
    "ALTER TABLE orders_new RENAME TO orders\n",
    "\"\"\")\n"
   ]
  },
  {
   "cell_type": "markdown",
   "metadata": {},
   "source": [
    "# データの操作 (INSERT文)"
   ]
  },
  {
   "cell_type": "code",
   "execution_count": null,
   "metadata": {},
   "outputs": [
    {
     "data": {
      "text/plain": [
       "<sqlite3.Cursor at 0x7e9e981010c0>"
      ]
     },
     "execution_count": 29,
     "metadata": {},
     "output_type": "execute_result"
    }
   ],
   "source": [
    "# executeでデータを挿入 必ずタプルで入れる\n",
    "# 基本的に”””で囲われている部分の？が、その外部の指定で参照の対象となる\n",
    "cursor.execute(\"\"\"\n",
    "INSERT INTO orders (order_id, user_id, order_date, total_amount, status) VALUES (?, ?, ?, ?, ?)\"\"\", \n",
    "(1, 1, 241126, 2, 'pending')\n",
    ")"
   ]
  },
  {
   "cell_type": "code",
   "execution_count": 30,
   "metadata": {},
   "outputs": [
    {
     "data": {
      "text/plain": [
       "<sqlite3.Cursor at 0x7e9e981010c0>"
      ]
     },
     "execution_count": 30,
     "metadata": {},
     "output_type": "execute_result"
    }
   ],
   "source": [
    "# execute manyでデータを複数挿入 必ずタプルのリストで入れる\n",
    "cursor.executemany(\"\"\"\n",
    "INSERT INTO orders (order_id, user_id, order_date, total_amount, status) VALUES (?, ?, ?, ?, ?)\"\"\",\n",
    "[(1, 1, 241126, 2, 'pending'), (2, 1, 241126, 4, 'pending')])"
   ]
  },
  {
   "cell_type": "markdown",
   "metadata": {},
   "source": [
    "# データの操作 (UPDATE文)"
   ]
  },
  {
   "cell_type": "code",
   "execution_count": null,
   "metadata": {},
   "outputs": [],
   "source": [
    "# order_idが1のデータのstatusを\"completed\"に\n",
    "cursor.execute(\"\"\"\n",
    "UPDATE orders SET status = ? WHERE order_id = ?\n",
    "\"\"\", (\"completed\", 1))"
   ]
  },
  {
   "cell_type": "markdown",
   "metadata": {},
   "source": [
    "# データの抽出 (SELECT文)"
   ]
  },
  {
   "cell_type": "code",
   "execution_count": null,
   "metadata": {},
   "outputs": [],
   "source": [
    "# 特定のカラム(order_id, user_id)を取得\n",
    "cursor.execute(\"\"\"\n",
    "SELECT order_id, user_id FROM orders\n",
    "\"\"\")\n",
    "rows = cursor.fetchall()\n",
    "\n",
    "# 全てのカラムのデータを取得\n",
    "# *が全てのカラムを参照する\n",
    "cursor.execute(\"\"\"\n",
    "SELECT * FROM orders\n",
    "\"\"\")\n",
    "rows = cursor.fetchall()"
   ]
  },
  {
   "cell_type": "code",
   "execution_count": null,
   "metadata": {},
   "outputs": [],
   "source": [
    "# 条件付きで特定のカラム(order_id, user_id)を取得 WHERE句を使用\n",
    "cursor.execute(\"\"\"\n",
    "SELECT order_id, user_id FROM orders WHERE total_amount = ?\n",
    "\"\"\", \n",
    "(200,))\n",
    "rows = cursor.fetchall()\n",
    "\n",
    "# total_amount の後ろには=以外にも、>, >=, <, <=が指定できる"
   ]
  },
  {
   "cell_type": "code",
   "execution_count": null,
   "metadata": {},
   "outputs": [],
   "source": [
    "# 複数の条件を指定してデータを取得 WHERE句で条件と論理演算子を使用\n",
    "cursor.execute(\"\"\"\n",
    "SELECT * FROM orders WHERE total_amount > ? AND status = ?\n",
    "\"\"\", \n",
    "(100, 'pending'))\n",
    "rows = cursor.fetchall()  # データを全件取得\n",
    "\n",
    "# AND, ORの論理演算子が使用できる\n",
    "\n",
    "# 範囲条件を指定してデータを取得 WHERE句でBETWEENを使用\n",
    "cursor.execute(\"\"\"\n",
    "SELECT * FROM orders WHERE total_amount BETWEEN ? AND ?\n",
    "\"\"\", \n",
    "(50, 200))\n",
    "rows = cursor.fetchall() \n",
    "\n",
    "# 最大値、最小値間で含まれる場合(最大値、最小値を含む)、BETWEEN A AND Bが使用できる\n",
    "\n",
    "# 特定の値に一致するデータを取得 WHERE句でINを使用\n",
    "cursor.execute(\"\"\"\n",
    "SELECT * FROM orders WHERE status IN (?, ?)\n",
    "\"\"\", \n",
    "('pending', 'completed'))\n",
    "rows = cursor.fetchall()"
   ]
  },
  {
   "cell_type": "code",
   "execution_count": null,
   "metadata": {},
   "outputs": [],
   "source": [
    "# 任意の複数文字を含むパターンを検索 WHERE句でLIKEと%を使用 → ingという文字列が入っている情報を抜き出すことができる\n",
    "cursor.execute(\"\"\"\n",
    "SELECT * FROM orders WHERE status LIKE ?\n",
    "\"\"\", \n",
    "('%ing',))\n",
    "rows = cursor.fetchall()\n",
    "\n",
    "# 任意の1文字を含むパターンを検索 WHERE句でLIKEと_を使用 →　pendingのようにendingの前に一文字ある場合に使用できる\n",
    "cursor.execute(\"\"\"\n",
    "SELECT * FROM orders WHERE status LIKE ?\n",
    "\"\"\", \n",
    "('_ending',))\n",
    "rows = cursor.fetchall()\n",
    "\n",
    "# 論理演算子が使用できる\n",
    "# 'pen'を含むが、5文字以上のstatusを検索\n",
    "cursor.execute(\"\"\"\n",
    "SELECT * FROM orders WHERE status LIKE ? AND LENGTH(status) > ?\n",
    "\"\"\", \n",
    "('%pen%', 5))"
   ]
  },
  {
   "cell_type": "code",
   "execution_count": null,
   "metadata": {},
   "outputs": [],
   "source": [
    "# 指定した列で昇順にデータを並べ替え WHERE句で条件を使用　デフォルトなのでASCは省略可能\n",
    "cursor.execute(\"\"\"\n",
    "SELECT * FROM orders ORDER BY total_amount ASC\n",
    "\"\"\")\n",
    "rows = cursor.fetchall()\n",
    "\n",
    "# 指定した列で降順にデータを並べ替え\n",
    "cursor.execute(\"\"\"\n",
    "SELECT * FROM orders ORDER BY order_date DESC\n",
    "\"\"\")\n",
    "rows = cursor.fetchall()\n",
    "\n",
    "# 複数の列を指定してデータを並べ替え　まずstatus列で昇順に並べ、次にtotal_amount列で降順に並べる\n",
    "cursor.execute(\"\"\"\n",
    "SELECT * FROM orders ORDER BY status ASC, total_amount DESC\n",
    "\"\"\")\n",
    "rows = cursor.fetchall()"
   ]
  },
  {
   "cell_type": "code",
   "execution_count": null,
   "metadata": {},
   "outputs": [],
   "source": [
    "# 条件を指定して合計値を計算\n",
    "cursor.execute(\"\"\"\n",
    "SELECT SUM(total_amount) FROM orders WHERE status = ?\n",
    "\"\"\", \n",
    "('completed',))  # 'completed' 状態の注文だけ合計\n",
    "result = cursor.fetchone()\n",
    "\n",
    "# 合計 SUM() \n",
    "# 平均 AVG()\n",
    "# 最大 MAX()\n",
    "# 最小 MIN()　が使用dふぇきる"
   ]
  },
  {
   "cell_type": "code",
   "execution_count": null,
   "metadata": {},
   "outputs": [],
   "source": [
    "# 指定した列のデータ件数をカウント\n",
    "cursor.execute(\"\"\"\n",
    "SELECT COUNT(total_amount) FROM orders\n",
    "\"\"\")\n",
    "result = cursor.fetchone()  "
   ]
  },
  {
   "cell_type": "code",
   "execution_count": null,
   "metadata": {},
   "outputs": [],
   "source": [
    "# 'status'列でグループ化\n",
    "# ユニークなステータスの値が取ってこれる\n",
    "cursor.execute(\"\"\"\n",
    "SELECT status FROM orders GROUP BY status\n",
    "\"\"\")\n",
    "rows = cursor.fetchall() \n",
    "\n",
    "# 'status'列でグループ化し、各グループの行数をカウント\n",
    "# ユニークなステータスの値とその数が取ってこれる\n",
    "cursor.execute(\"\"\"\n",
    "SELECT status, COUNT(*) FROM orders GROUP BY status\n",
    "\"\"\")\n",
    "rows = cursor.fetchall() \n",
    "\n",
    "# 'user_id' と 'status' 列でグループ化し、各組み合わせの注文数をカウント\n",
    "cursor.execute(\"\"\"\n",
    "SELECT user_id, status, COUNT(*) FROM orders GROUP BY user_id, status\n",
    "\"\"\")\n",
    "rows = cursor.fetchall()\n",
    "\n",
    "# このように複数のデータを取ってきたい場合にはSELECT後に,でつなぐ\n",
    "# AVE()なども使用できる"
   ]
  },
  {
   "cell_type": "code",
   "execution_count": null,
   "metadata": {},
   "outputs": [],
   "source": [
    "# 列に別名を付けてデータを取得\n",
    "cursor.execute(\"\"\"\n",
    "SELECT order_id AS num FROM orders\n",
    "\"\"\")\n",
    "rows = cursor.fetchall() \n",
    "\n",
    "# 複数列に別名を付けてデータを取得\n",
    "cursor.execute(\"\"\"\n",
    "SELECT order_id AS num, total_amount AS amount FROM orders\n",
    "\"\"\")\n",
    "rows = cursor.fetchall()  # 結果を全件取得"
   ]
  },
  {
   "cell_type": "code",
   "execution_count": null,
   "metadata": {},
   "outputs": [],
   "source": [
    "# 'status' 列を集計し、注文数が5件を超えるステータスを取得\n",
    "cursor.execute(\"\"\"\n",
    "SELECT status FROM orders GROUP BY status HAVING COUNT(*) > 5\n",
    "\"\"\")\n",
    "rows = cursor.fetchall()\n",
    "\n",
    "# 'status' 列でグループ化し、注文数が5件を超えるステータスを表示\n",
    "cursor.execute(\"\"\"\n",
    "SELECT status, COUNT(*) FROM orders GROUP BY status HAVING COUNT(*) > 5\n",
    "\"\"\")\n",
    "rows = cursor.fetchall()\n",
    "\n",
    "# 'total_amount' が 100 より大きい注文を対象に、'status' 列でグループ化し、合計金額が 500 を超えるステータスを表示\n",
    "cursor.execute(\"\"\"\n",
    "SELECT status, SUM(total_amount) FROM orders WHERE total_amount > 100 GROUP BY status HAVING SUM(total_amount) > 500\n",
    "\"\"\")"
   ]
  },
  {
   "cell_type": "markdown",
   "metadata": {},
   "source": [
    "# commit (超重要)"
   ]
  },
  {
   "cell_type": "markdown",
   "metadata": {},
   "source": [
    "デフォルトで自動的にcommitしてくれるが、明示することでその操作による変更を確実に反映させる。  \n",
    "cursor.execute(\"BEGIN TRANSACTION;\")と指定することにより手動commitモードになる。  \n",
    "手動commitモードでは、そのトランザクション（操作）によってエラーが生じた場合には、rollback()によって変更を取り消すことができる。  "
   ]
  },
  {
   "cell_type": "code",
   "execution_count": null,
   "metadata": {},
   "outputs": [],
   "source": [
    "cursor.execute(\"BEGIN TRANSACTION;\")\n",
    "\n",
    "# connect時を確認。cursorではない\n",
    "connection.commit()\n",
    "# エラーが発生した場合、ロールバック\n",
    "connection.rollback()"
   ]
  },
  {
   "cell_type": "markdown",
   "metadata": {},
   "source": [
    "# fetchについて"
   ]
  },
  {
   "cell_type": "code",
   "execution_count": null,
   "metadata": {},
   "outputs": [],
   "source": [
    "# fetchoneはタプルで結果を一つ返す\n",
    "# 該当しているものがなければ、Noneを返す\n",
    "result = cursor.fetchone()\n",
    "\n",
    "# 1つのcursorに二つ指定すると、複数ある場合には、順番に表示される\n",
    "# 該当しているものがなければ、Noneを返す\n",
    "result_1 = cursor.fetchone()\n",
    "result_2 = cursor.fetchone()\n",
    "\n",
    "# タプルのリストの形でcursorでヒットしたすべてのデータを返す。\n",
    "result = cursor.fetchall()\n",
    "\n",
    "# 引数に整数nを指定することで、n個ずつ結果を表示する\n",
    "# fetchoneの複数個版\n",
    "# defaultはn=1で、複数取る場合にはタプルのリストになる。\n",
    "result = cursor.fetchmany(2)"
   ]
  },
  {
   "cell_type": "markdown",
   "metadata": {},
   "source": [
    "# PRAGMA関数\n",
    "sqlite3特有の関数  \n",
    "データベースそのものの挙動や設定を司る  \n",
    "基本的に使用する可能性があるのは、外部キーとの制約(前述)、整合性の確認、くらい？  "
   ]
  },
  {
   "cell_type": "code",
   "execution_count": null,
   "metadata": {},
   "outputs": [],
   "source": [
    "# 整合性の確認\n",
    "cursor.execute(\"PRAGMA integrity_check;\")"
   ]
  },
  {
   "cell_type": "markdown",
   "metadata": {},
   "source": [
    "# ユーザの作成、権限管理\n",
    "→ 省略"
   ]
  },
  {
   "cell_type": "code",
   "execution_count": null,
   "metadata": {},
   "outputs": [],
   "source": []
  }
 ],
 "metadata": {
  "kernelspec": {
   "display_name": "pip-env",
   "language": "python",
   "name": "python3"
  },
  "language_info": {
   "codemirror_mode": {
    "name": "ipython",
    "version": 3
   },
   "file_extension": ".py",
   "mimetype": "text/x-python",
   "name": "python",
   "nbconvert_exporter": "python",
   "pygments_lexer": "ipython3",
   "version": "3.10.9"
  }
 },
 "nbformat": 4,
 "nbformat_minor": 2
}
